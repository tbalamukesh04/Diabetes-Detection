{
 "cells": [
  {
   "cell_type": "code",
   "execution_count": 1,
   "id": "9c328c26",
   "metadata": {
    "_cell_guid": "b1076dfc-b9ad-4769-8c92-a6c4dae69d19",
    "_uuid": "8f2839f25d086af736a60e9eeb907d3b93b6e0e5",
    "execution": {
     "iopub.execute_input": "2021-10-28T13:18:51.611863Z",
     "iopub.status.busy": "2021-10-28T13:18:51.611142Z",
     "iopub.status.idle": "2021-10-28T13:18:53.848534Z",
     "shell.execute_reply": "2021-10-28T13:18:53.849240Z",
     "shell.execute_reply.started": "2021-10-28T07:00:19.945102Z"
    },
    "papermill": {
     "duration": 2.278692,
     "end_time": "2021-10-28T13:18:53.849646",
     "exception": false,
     "start_time": "2021-10-28T13:18:51.570954",
     "status": "completed"
    },
    "tags": []
   },
   "outputs": [],
   "source": [
    "from statsmodels.formula.api import ols\n",
    "from statsmodels.stats.outliers_influence import variance_inflation_factor\n",
    "import numpy as np # linear algebra\n",
    "import pandas as pd # data processing\n",
    "from pathlib import Path\n",
    "import matplotlib.pyplot as plt # import matplotlib\n",
    "%matplotlib inline\n",
    "import seaborn as sns # seaborn data visualizer\n",
    "import matplotlib.pyplot as plt \n",
    "import seaborn as sns\n",
    "from scipy import stats\n",
    "import statsmodels.api as sm\n",
    "from statsmodels.formula.api import ols\n",
    "from sklearn.linear_model import LogisticRegression\n",
    "from sklearn.model_selection import train_test_split\n",
    "from sklearn.preprocessing import StandardScaler\n",
    "\n",
    "import os\n",
    "for dirname, _, filenames in os.walk('/kaggle/input'):\n",
    "    for filename in filenames:\n",
    "        print(os.path.join(dirname, filename))\n",
    "\n"
   ]
  },
  {
   "cell_type": "code",
   "execution_count": 2,
   "id": "6c6e12e6",
   "metadata": {
    "execution": {
     "iopub.execute_input": "2021-10-28T13:18:53.890165Z",
     "iopub.status.busy": "2021-10-28T13:18:53.889493Z",
     "iopub.status.idle": "2021-10-28T13:18:53.894485Z",
     "shell.execute_reply": "2021-10-28T13:18:53.893901Z",
     "shell.execute_reply.started": "2021-10-28T07:00:19.966922Z"
    },
    "papermill": {
     "duration": 0.026023,
     "end_time": "2021-10-28T13:18:53.894635",
     "exception": false,
     "start_time": "2021-10-28T13:18:53.868612",
     "status": "completed"
    },
    "tags": []
   },
   "outputs": [],
   "source": [
    "BASE_DIR = Path('../input/pima-indians-diabetes-database')"
   ]
  },
  {
   "cell_type": "code",
   "execution_count": 3,
   "id": "fb7af217",
   "metadata": {
    "execution": {
     "iopub.execute_input": "2021-10-28T13:18:53.939869Z",
     "iopub.status.busy": "2021-10-28T13:18:53.939149Z",
     "iopub.status.idle": "2021-10-28T13:18:53.976245Z",
     "shell.execute_reply": "2021-10-28T13:18:53.976735Z",
     "shell.execute_reply.started": "2021-10-28T07:00:19.972196Z"
    },
    "papermill": {
     "duration": 0.063622,
     "end_time": "2021-10-28T13:18:53.976916",
     "exception": false,
     "start_time": "2021-10-28T13:18:53.913294",
     "status": "completed"
    },
    "tags": []
   },
   "outputs": [
    {
     "data": {
      "text/html": [
       "<div>\n",
       "<style scoped>\n",
       "    .dataframe tbody tr th:only-of-type {\n",
       "        vertical-align: middle;\n",
       "    }\n",
       "\n",
       "    .dataframe tbody tr th {\n",
       "        vertical-align: top;\n",
       "    }\n",
       "\n",
       "    .dataframe thead th {\n",
       "        text-align: right;\n",
       "    }\n",
       "</style>\n",
       "<table border=\"1\" class=\"dataframe\">\n",
       "  <thead>\n",
       "    <tr style=\"text-align: right;\">\n",
       "      <th></th>\n",
       "      <th>Glucose</th>\n",
       "      <th>BloodPressure</th>\n",
       "      <th>SkinThickness</th>\n",
       "      <th>Insulin</th>\n",
       "      <th>BMI</th>\n",
       "      <th>DiabetesPedigreeFunction</th>\n",
       "      <th>Age</th>\n",
       "      <th>Outcome</th>\n",
       "    </tr>\n",
       "  </thead>\n",
       "  <tbody>\n",
       "    <tr>\n",
       "      <th>0</th>\n",
       "      <td>148</td>\n",
       "      <td>72</td>\n",
       "      <td>35</td>\n",
       "      <td>0</td>\n",
       "      <td>33.6</td>\n",
       "      <td>0.627</td>\n",
       "      <td>50</td>\n",
       "      <td>1</td>\n",
       "    </tr>\n",
       "    <tr>\n",
       "      <th>1</th>\n",
       "      <td>85</td>\n",
       "      <td>66</td>\n",
       "      <td>29</td>\n",
       "      <td>0</td>\n",
       "      <td>26.6</td>\n",
       "      <td>0.351</td>\n",
       "      <td>31</td>\n",
       "      <td>0</td>\n",
       "    </tr>\n",
       "    <tr>\n",
       "      <th>2</th>\n",
       "      <td>183</td>\n",
       "      <td>64</td>\n",
       "      <td>0</td>\n",
       "      <td>0</td>\n",
       "      <td>23.3</td>\n",
       "      <td>0.672</td>\n",
       "      <td>32</td>\n",
       "      <td>1</td>\n",
       "    </tr>\n",
       "    <tr>\n",
       "      <th>3</th>\n",
       "      <td>89</td>\n",
       "      <td>66</td>\n",
       "      <td>23</td>\n",
       "      <td>94</td>\n",
       "      <td>28.1</td>\n",
       "      <td>0.167</td>\n",
       "      <td>21</td>\n",
       "      <td>0</td>\n",
       "    </tr>\n",
       "    <tr>\n",
       "      <th>4</th>\n",
       "      <td>137</td>\n",
       "      <td>40</td>\n",
       "      <td>35</td>\n",
       "      <td>168</td>\n",
       "      <td>43.1</td>\n",
       "      <td>2.288</td>\n",
       "      <td>33</td>\n",
       "      <td>1</td>\n",
       "    </tr>\n",
       "    <tr>\n",
       "      <th>5</th>\n",
       "      <td>116</td>\n",
       "      <td>74</td>\n",
       "      <td>0</td>\n",
       "      <td>0</td>\n",
       "      <td>25.6</td>\n",
       "      <td>0.201</td>\n",
       "      <td>30</td>\n",
       "      <td>0</td>\n",
       "    </tr>\n",
       "    <tr>\n",
       "      <th>6</th>\n",
       "      <td>78</td>\n",
       "      <td>50</td>\n",
       "      <td>32</td>\n",
       "      <td>88</td>\n",
       "      <td>31.0</td>\n",
       "      <td>0.248</td>\n",
       "      <td>26</td>\n",
       "      <td>1</td>\n",
       "    </tr>\n",
       "    <tr>\n",
       "      <th>7</th>\n",
       "      <td>115</td>\n",
       "      <td>0</td>\n",
       "      <td>0</td>\n",
       "      <td>0</td>\n",
       "      <td>35.3</td>\n",
       "      <td>0.134</td>\n",
       "      <td>29</td>\n",
       "      <td>0</td>\n",
       "    </tr>\n",
       "    <tr>\n",
       "      <th>8</th>\n",
       "      <td>197</td>\n",
       "      <td>70</td>\n",
       "      <td>45</td>\n",
       "      <td>543</td>\n",
       "      <td>30.5</td>\n",
       "      <td>0.158</td>\n",
       "      <td>53</td>\n",
       "      <td>1</td>\n",
       "    </tr>\n",
       "    <tr>\n",
       "      <th>9</th>\n",
       "      <td>125</td>\n",
       "      <td>96</td>\n",
       "      <td>0</td>\n",
       "      <td>0</td>\n",
       "      <td>0.0</td>\n",
       "      <td>0.232</td>\n",
       "      <td>54</td>\n",
       "      <td>1</td>\n",
       "    </tr>\n",
       "    <tr>\n",
       "      <th>10</th>\n",
       "      <td>110</td>\n",
       "      <td>92</td>\n",
       "      <td>0</td>\n",
       "      <td>0</td>\n",
       "      <td>37.6</td>\n",
       "      <td>0.191</td>\n",
       "      <td>30</td>\n",
       "      <td>0</td>\n",
       "    </tr>\n",
       "    <tr>\n",
       "      <th>11</th>\n",
       "      <td>168</td>\n",
       "      <td>74</td>\n",
       "      <td>0</td>\n",
       "      <td>0</td>\n",
       "      <td>38.0</td>\n",
       "      <td>0.537</td>\n",
       "      <td>34</td>\n",
       "      <td>1</td>\n",
       "    </tr>\n",
       "    <tr>\n",
       "      <th>12</th>\n",
       "      <td>139</td>\n",
       "      <td>80</td>\n",
       "      <td>0</td>\n",
       "      <td>0</td>\n",
       "      <td>27.1</td>\n",
       "      <td>1.441</td>\n",
       "      <td>57</td>\n",
       "      <td>0</td>\n",
       "    </tr>\n",
       "    <tr>\n",
       "      <th>13</th>\n",
       "      <td>189</td>\n",
       "      <td>60</td>\n",
       "      <td>23</td>\n",
       "      <td>846</td>\n",
       "      <td>30.1</td>\n",
       "      <td>0.398</td>\n",
       "      <td>59</td>\n",
       "      <td>1</td>\n",
       "    </tr>\n",
       "    <tr>\n",
       "      <th>14</th>\n",
       "      <td>166</td>\n",
       "      <td>72</td>\n",
       "      <td>19</td>\n",
       "      <td>175</td>\n",
       "      <td>25.8</td>\n",
       "      <td>0.587</td>\n",
       "      <td>51</td>\n",
       "      <td>1</td>\n",
       "    </tr>\n",
       "  </tbody>\n",
       "</table>\n",
       "</div>"
      ],
      "text/plain": [
       "    Glucose  BloodPressure  SkinThickness  Insulin   BMI  \\\n",
       "0       148             72             35        0  33.6   \n",
       "1        85             66             29        0  26.6   \n",
       "2       183             64              0        0  23.3   \n",
       "3        89             66             23       94  28.1   \n",
       "4       137             40             35      168  43.1   \n",
       "5       116             74              0        0  25.6   \n",
       "6        78             50             32       88  31.0   \n",
       "7       115              0              0        0  35.3   \n",
       "8       197             70             45      543  30.5   \n",
       "9       125             96              0        0   0.0   \n",
       "10      110             92              0        0  37.6   \n",
       "11      168             74              0        0  38.0   \n",
       "12      139             80              0        0  27.1   \n",
       "13      189             60             23      846  30.1   \n",
       "14      166             72             19      175  25.8   \n",
       "\n",
       "    DiabetesPedigreeFunction  Age  Outcome  \n",
       "0                      0.627   50        1  \n",
       "1                      0.351   31        0  \n",
       "2                      0.672   32        1  \n",
       "3                      0.167   21        0  \n",
       "4                      2.288   33        1  \n",
       "5                      0.201   30        0  \n",
       "6                      0.248   26        1  \n",
       "7                      0.134   29        0  \n",
       "8                      0.158   53        1  \n",
       "9                      0.232   54        1  \n",
       "10                     0.191   30        0  \n",
       "11                     0.537   34        1  \n",
       "12                     1.441   57        0  \n",
       "13                     0.398   59        1  \n",
       "14                     0.587   51        1  "
      ]
     },
     "execution_count": 3,
     "metadata": {},
     "output_type": "execute_result"
    }
   ],
   "source": [
    "df = pd.read_csv('diabetes.csv')\n",
    "df.head(15)"
   ]
  },
  {
   "cell_type": "code",
   "execution_count": 4,
   "id": "cc468f20",
   "metadata": {
    "execution": {
     "iopub.execute_input": "2021-10-28T13:18:54.029327Z",
     "iopub.status.busy": "2021-10-28T13:18:54.028539Z",
     "iopub.status.idle": "2021-10-28T13:18:54.031843Z",
     "shell.execute_reply": "2021-10-28T13:18:54.032394Z",
     "shell.execute_reply.started": "2021-10-28T07:00:19.998797Z"
    },
    "papermill": {
     "duration": 0.036308,
     "end_time": "2021-10-28T13:18:54.032574",
     "exception": false,
     "start_time": "2021-10-28T13:18:53.996266",
     "status": "completed"
    },
    "tags": []
   },
   "outputs": [
    {
     "name": "stdout",
     "output_type": "stream",
     "text": [
      "['Glucose', 'BloodPressure', 'SkinThickness', 'Insulin', 'BMI', 'DiabetesPedigreeFunction', 'Age']\n"
     ]
    }
   ],
   "source": [
    "features_list = list(df.drop(columns='Outcome').columns)\n",
    "columns = list(df.columns)\n",
    "print(features_list)"
   ]
  },
  {
   "cell_type": "code",
   "execution_count": 5,
   "id": "d05ba38d",
   "metadata": {
    "execution": {
     "iopub.execute_input": "2021-10-28T13:18:54.080833Z",
     "iopub.status.busy": "2021-10-28T13:18:54.079776Z",
     "iopub.status.idle": "2021-10-28T13:18:54.084510Z",
     "shell.execute_reply": "2021-10-28T13:18:54.083891Z",
     "shell.execute_reply.started": "2021-10-28T07:00:20.007319Z"
    },
    "papermill": {
     "duration": 0.031682,
     "end_time": "2021-10-28T13:18:54.084652",
     "exception": false,
     "start_time": "2021-10-28T13:18:54.052970",
     "status": "completed"
    },
    "tags": []
   },
   "outputs": [
    {
     "data": {
      "text/plain": [
       "Glucose                     0\n",
       "BloodPressure               0\n",
       "SkinThickness               0\n",
       "Insulin                     0\n",
       "BMI                         0\n",
       "DiabetesPedigreeFunction    0\n",
       "Age                         0\n",
       "Outcome                     0\n",
       "dtype: int64"
      ]
     },
     "execution_count": 5,
     "metadata": {},
     "output_type": "execute_result"
    }
   ],
   "source": [
    "isnull = df.isnull().sum()\n",
    "isnull"
   ]
  },
  {
   "cell_type": "code",
   "execution_count": 6,
   "id": "89eca778",
   "metadata": {
    "execution": {
     "iopub.execute_input": "2021-10-28T13:18:54.136673Z",
     "iopub.status.busy": "2021-10-28T13:18:54.135733Z",
     "iopub.status.idle": "2021-10-28T13:18:54.145748Z",
     "shell.execute_reply": "2021-10-28T13:18:54.145040Z",
     "shell.execute_reply.started": "2021-10-28T07:00:20.021005Z"
    },
    "papermill": {
     "duration": 0.041323,
     "end_time": "2021-10-28T13:18:54.145902",
     "exception": false,
     "start_time": "2021-10-28T13:18:54.104579",
     "status": "completed"
    },
    "tags": []
   },
   "outputs": [
    {
     "data": {
      "text/plain": [
       "False    768\n",
       "dtype: int64"
      ]
     },
     "execution_count": 6,
     "metadata": {},
     "output_type": "execute_result"
    }
   ],
   "source": [
    "dup = df.duplicated(subset=['Glucose', 'BloodPressure', 'SkinThickness', 'Insulin', 'BMI', 'DiabetesPedigreeFunction', 'Age'])\n",
    "dup.value_counts()"
   ]
  },
  {
   "cell_type": "code",
   "execution_count": 7,
   "id": "1eb722c9",
   "metadata": {
    "execution": {
     "iopub.execute_input": "2021-10-28T13:18:54.193078Z",
     "iopub.status.busy": "2021-10-28T13:18:54.192375Z",
     "iopub.status.idle": "2021-10-28T13:18:54.212240Z",
     "shell.execute_reply": "2021-10-28T13:18:54.211648Z",
     "shell.execute_reply.started": "2021-10-28T07:00:20.035394Z"
    },
    "papermill": {
     "duration": 0.046677,
     "end_time": "2021-10-28T13:18:54.212394",
     "exception": false,
     "start_time": "2021-10-28T13:18:54.165717",
     "status": "completed"
    },
    "tags": []
   },
   "outputs": [
    {
     "data": {
      "text/html": [
       "<div>\n",
       "<style scoped>\n",
       "    .dataframe tbody tr th:only-of-type {\n",
       "        vertical-align: middle;\n",
       "    }\n",
       "\n",
       "    .dataframe tbody tr th {\n",
       "        vertical-align: top;\n",
       "    }\n",
       "\n",
       "    .dataframe thead th {\n",
       "        text-align: right;\n",
       "    }\n",
       "</style>\n",
       "<table border=\"1\" class=\"dataframe\">\n",
       "  <thead>\n",
       "    <tr style=\"text-align: right;\">\n",
       "      <th></th>\n",
       "      <th>Glucose</th>\n",
       "      <th>BloodPressure</th>\n",
       "      <th>SkinThickness</th>\n",
       "      <th>Insulin</th>\n",
       "      <th>BMI</th>\n",
       "      <th>DiabetesPedigreeFunction</th>\n",
       "      <th>Age</th>\n",
       "      <th>Outcome</th>\n",
       "    </tr>\n",
       "  </thead>\n",
       "  <tbody>\n",
       "    <tr>\n",
       "      <th>0</th>\n",
       "      <td>148</td>\n",
       "      <td>72</td>\n",
       "      <td>35</td>\n",
       "      <td>0</td>\n",
       "      <td>33.6</td>\n",
       "      <td>0.627</td>\n",
       "      <td>50</td>\n",
       "      <td>1</td>\n",
       "    </tr>\n",
       "    <tr>\n",
       "      <th>1</th>\n",
       "      <td>85</td>\n",
       "      <td>66</td>\n",
       "      <td>29</td>\n",
       "      <td>0</td>\n",
       "      <td>26.6</td>\n",
       "      <td>0.351</td>\n",
       "      <td>31</td>\n",
       "      <td>0</td>\n",
       "    </tr>\n",
       "    <tr>\n",
       "      <th>2</th>\n",
       "      <td>183</td>\n",
       "      <td>64</td>\n",
       "      <td>0</td>\n",
       "      <td>0</td>\n",
       "      <td>23.3</td>\n",
       "      <td>0.672</td>\n",
       "      <td>32</td>\n",
       "      <td>1</td>\n",
       "    </tr>\n",
       "    <tr>\n",
       "      <th>3</th>\n",
       "      <td>89</td>\n",
       "      <td>66</td>\n",
       "      <td>23</td>\n",
       "      <td>94</td>\n",
       "      <td>28.1</td>\n",
       "      <td>0.167</td>\n",
       "      <td>21</td>\n",
       "      <td>0</td>\n",
       "    </tr>\n",
       "    <tr>\n",
       "      <th>4</th>\n",
       "      <td>137</td>\n",
       "      <td>40</td>\n",
       "      <td>35</td>\n",
       "      <td>168</td>\n",
       "      <td>43.1</td>\n",
       "      <td>2.288</td>\n",
       "      <td>33</td>\n",
       "      <td>1</td>\n",
       "    </tr>\n",
       "    <tr>\n",
       "      <th>...</th>\n",
       "      <td>...</td>\n",
       "      <td>...</td>\n",
       "      <td>...</td>\n",
       "      <td>...</td>\n",
       "      <td>...</td>\n",
       "      <td>...</td>\n",
       "      <td>...</td>\n",
       "      <td>...</td>\n",
       "    </tr>\n",
       "    <tr>\n",
       "      <th>763</th>\n",
       "      <td>101</td>\n",
       "      <td>76</td>\n",
       "      <td>48</td>\n",
       "      <td>180</td>\n",
       "      <td>32.9</td>\n",
       "      <td>0.171</td>\n",
       "      <td>63</td>\n",
       "      <td>0</td>\n",
       "    </tr>\n",
       "    <tr>\n",
       "      <th>764</th>\n",
       "      <td>122</td>\n",
       "      <td>70</td>\n",
       "      <td>27</td>\n",
       "      <td>0</td>\n",
       "      <td>36.8</td>\n",
       "      <td>0.340</td>\n",
       "      <td>27</td>\n",
       "      <td>0</td>\n",
       "    </tr>\n",
       "    <tr>\n",
       "      <th>765</th>\n",
       "      <td>121</td>\n",
       "      <td>72</td>\n",
       "      <td>23</td>\n",
       "      <td>112</td>\n",
       "      <td>26.2</td>\n",
       "      <td>0.245</td>\n",
       "      <td>30</td>\n",
       "      <td>0</td>\n",
       "    </tr>\n",
       "    <tr>\n",
       "      <th>766</th>\n",
       "      <td>126</td>\n",
       "      <td>60</td>\n",
       "      <td>0</td>\n",
       "      <td>0</td>\n",
       "      <td>30.1</td>\n",
       "      <td>0.349</td>\n",
       "      <td>47</td>\n",
       "      <td>1</td>\n",
       "    </tr>\n",
       "    <tr>\n",
       "      <th>767</th>\n",
       "      <td>93</td>\n",
       "      <td>70</td>\n",
       "      <td>31</td>\n",
       "      <td>0</td>\n",
       "      <td>30.4</td>\n",
       "      <td>0.315</td>\n",
       "      <td>23</td>\n",
       "      <td>0</td>\n",
       "    </tr>\n",
       "  </tbody>\n",
       "</table>\n",
       "<p>768 rows × 8 columns</p>\n",
       "</div>"
      ],
      "text/plain": [
       "     Glucose  BloodPressure  SkinThickness  Insulin   BMI  \\\n",
       "0        148             72             35        0  33.6   \n",
       "1         85             66             29        0  26.6   \n",
       "2        183             64              0        0  23.3   \n",
       "3         89             66             23       94  28.1   \n",
       "4        137             40             35      168  43.1   \n",
       "..       ...            ...            ...      ...   ...   \n",
       "763      101             76             48      180  32.9   \n",
       "764      122             70             27        0  36.8   \n",
       "765      121             72             23      112  26.2   \n",
       "766      126             60              0        0  30.1   \n",
       "767       93             70             31        0  30.4   \n",
       "\n",
       "     DiabetesPedigreeFunction  Age  Outcome  \n",
       "0                       0.627   50        1  \n",
       "1                       0.351   31        0  \n",
       "2                       0.672   32        1  \n",
       "3                       0.167   21        0  \n",
       "4                       2.288   33        1  \n",
       "..                        ...  ...      ...  \n",
       "763                     0.171   63        0  \n",
       "764                     0.340   27        0  \n",
       "765                     0.245   30        0  \n",
       "766                     0.349   47        1  \n",
       "767                     0.315   23        0  \n",
       "\n",
       "[768 rows x 8 columns]"
      ]
     },
     "execution_count": 7,
     "metadata": {},
     "output_type": "execute_result"
    }
   ],
   "source": [
    "df.drop_duplicates(['Glucose', 'BloodPressure', 'SkinThickness', 'Insulin', 'BMI', 'DiabetesPedigreeFunction', 'Age'])"
   ]
  },
  {
   "cell_type": "markdown",
   "id": "dc65ab5c",
   "metadata": {
    "papermill": {
     "duration": 0.020851,
     "end_time": "2021-10-28T13:18:54.255813",
     "exception": false,
     "start_time": "2021-10-28T13:18:54.234962",
     "status": "completed"
    },
    "tags": []
   },
   "source": [
    "# Multicollinearity"
   ]
  },
  {
   "cell_type": "code",
   "execution_count": null,
   "id": "d2c00a1b",
   "metadata": {},
   "outputs": [],
   "source": []
  },
  {
   "cell_type": "markdown",
   "id": "44cdfa83",
   "metadata": {
    "papermill": {
     "duration": 0.020075,
     "end_time": "2021-10-28T13:18:54.296407",
     "exception": false,
     "start_time": "2021-10-28T13:18:54.276332",
     "status": "completed"
    },
    "tags": []
   },
   "source": [
    "Multicollinearity, which is the most problematic when performing LR, is checked.\n",
    "\n",
    "When multicollinearity exists, the explanatory power of the model decreases, and the model breaks when other variables are added.\n",
    "\n",
    "After checking multicollinearity, features with VIF value of 10 or higher are removed.\n",
    "\n",
    "\n",
    "There are several methods to remove multicollinearity. The main methods are PCA and VIF. I will use VIF\n",
    "\n",
    "Note that you have to remove them one by one using 'loop'. Remove one and check the VIF value again."
   ]
  },
  {
   "cell_type": "code",
   "execution_count": 14,
   "id": "3c3c835a",
   "metadata": {
    "execution": {
     "iopub.execute_input": "2021-10-28T13:18:54.351977Z",
     "iopub.status.busy": "2021-10-28T13:18:54.351150Z",
     "iopub.status.idle": "2021-10-28T13:18:54.428760Z",
     "shell.execute_reply": "2021-10-28T13:18:54.429872Z",
     "shell.execute_reply.started": "2021-10-28T07:00:20.0587Z"
    },
    "papermill": {
     "duration": 0.113394,
     "end_time": "2021-10-28T13:18:54.430155",
     "exception": false,
     "start_time": "2021-10-28T13:18:54.316761",
     "status": "completed"
    },
    "tags": []
   },
   "outputs": [
    {
     "name": "stdout",
     "output_type": "stream",
     "text": [
      "                   Variable  Estimate       VIF\n",
      "0                   Glucose  0.397688  1.298916\n",
      "1             BloodPressure -0.092481  1.181550\n",
      "2             SkinThickness  0.005585  1.507421\n",
      "3                   Insulin -0.050649  1.424197\n",
      "4                       BMI  0.220032  1.297367\n",
      "5  DiabetesPedigreeFunction  0.095642  1.064108\n",
      "6                       Age  0.143028  1.172888\n"
     ]
    },
    {
     "data": {
      "text/plain": [
       "<BarContainer object of 7 artists>"
      ]
     },
     "execution_count": 14,
     "metadata": {},
     "output_type": "execute_result"
    },
    {
     "data": {
      "image/png": "[encoded data removed]",
      "text/plain": [
       "<Figure size 432x288 with 1 Axes>"
      ]
     },
     "metadata": {
      "needs_background": "light"
     },
     "output_type": "display_data"
    }
   ],
   "source": [
    "def standardize_var(x):\n",
    "    mean = np.mean(x)\n",
    "    std = np.sqrt(np.sum(np.square(x-mean))/(len(x)-1))\n",
    "    return ((x-mean)/std)/np.sqrt(len(x)-1)\n",
    " \n",
    "sdf = df.apply(standardize_var) \n",
    "sdf_X = sdf[['Glucose', 'BloodPressure', 'SkinThickness', 'Insulin', 'BMI', 'DiabetesPedigreeFunction', 'Age']]\n",
    "corr = np.array(sdf_X.corr()) \n",
    "corr_inv = np.linalg.inv(corr) \n",
    " \n",
    "fit = ols('Outcome~Glucose+BloodPressure+SkinThickness+Insulin+BMI+DiabetesPedigreeFunction+Age',data=sdf).fit()\n",
    " \n",
    "variables = [] \n",
    "reg_coef = [] \n",
    "vif = [] \n",
    "for i in range(len(sdf_X.columns)):\n",
    "    col_name = sdf_X.columns[i]\n",
    "    variables.append(col_name)\n",
    "    reg_coef.append(fit.params[col_name])\n",
    "    vif.append(corr_inv[i][i])\n",
    "    \n",
    "df_res = pd.DataFrame()\n",
    "df_res['Variable'] = variables\n",
    "df_res['Estimate'] = reg_coef\n",
    "df_res['VIF'] = vif\n",
    "left=[1,2,3,4,5,6,7]\n",
    "\n",
    "print(df_res)\n",
    "plt.bar(left,vif, tick_label = variables,width = 0.8, color = ['green'])"
   ]
  },
  {
   "cell_type": "markdown",
   "id": "8bc228f4",
   "metadata": {
    "papermill": {
     "duration": 0.028301,
     "end_time": "2021-10-28T13:18:54.497983",
     "exception": false,
     "start_time": "2021-10-28T13:18:54.469682",
     "status": "completed"
    },
    "tags": []
   },
   "source": [
    "**Fortunately, there is no feature with a VIF greater than 10.**"
   ]
  },
  {
   "cell_type": "markdown",
   "id": "a2f69650",
   "metadata": {
    "papermill": {
     "duration": 0.02111,
     "end_time": "2021-10-28T13:18:54.540130",
     "exception": false,
     "start_time": "2021-10-28T13:18:54.519020",
     "status": "completed"
    },
    "tags": []
   },
   "source": [
    "# HEATMAP"
   ]
  },
  {
   "cell_type": "markdown",
   "id": "5f9950cb",
   "metadata": {
    "papermill": {
     "duration": 0.020959,
     "end_time": "2021-10-28T13:18:54.581987",
     "exception": false,
     "start_time": "2021-10-28T13:18:54.561028",
     "status": "completed"
    },
    "tags": []
   },
   "source": [
    "**Visualize and confirm the correlation between features. Although seemingly trivial, statistical analysis is a very important task.**\n",
    "\n",
    "\n",
    "If you have time, draw a scatter plot between features as well.\n",
    "\n",
    "You can get something out of a visualized graph."
   ]
  },
  {
   "cell_type": "code",
   "execution_count": 15,
   "id": "9456528a",
   "metadata": {
    "execution": {
     "iopub.execute_input": "2021-10-28T13:18:54.634057Z",
     "iopub.status.busy": "2021-10-28T13:18:54.632701Z",
     "iopub.status.idle": "2021-10-28T13:18:55.509659Z",
     "shell.execute_reply": "2021-10-28T13:18:55.510184Z",
     "shell.execute_reply.started": "2021-10-28T07:00:20.128623Z"
    },
    "papermill": {
     "duration": 0.906128,
     "end_time": "2021-10-28T13:18:55.510382",
     "exception": false,
     "start_time": "2021-10-28T13:18:54.604254",
     "status": "completed"
    },
    "tags": []
   },
   "outputs": [
    {
     "data": {
      "text/plain": [
       "<AxesSubplot:title={'center':'Diabetes Correlation of Features'}>"
      ]
     },
     "execution_count": 15,
     "metadata": {},
     "output_type": "execute_result"
    },
    {
     "data": {
      "image/png": "[encoded data removed]",
      "text/plain": [
       "<Figure size 792x576 with 2 Axes>"
      ]
     },
     "metadata": {
      "needs_background": "light"
     },
     "output_type": "display_data"
    }
   ],
   "source": [
    "colormap = plt.cm.PuBu \n",
    "plt.figure(figsize=(11, 8)) \n",
    "plt.title(\"Diabetes Correlation of Features\", y = 1.1, size = 16) \n",
    "sns.heatmap(df.astype(float).corr(), linewidths = 0.0, vmax = 1.0, \n",
    "            square = True, cmap = colormap, linecolor = \"white\", annot = True, annot_kws = {\"size\" : 16})"
   ]
  },
  {
   "cell_type": "markdown",
   "id": "afc46a74",
   "metadata": {
    "papermill": {
     "duration": 0.02376,
     "end_time": "2021-10-28T13:18:55.558994",
     "exception": false,
     "start_time": "2021-10-28T13:18:55.535234",
     "status": "completed"
    },
    "tags": []
   },
   "source": [
    "# T-test"
   ]
  },
  {
   "cell_type": "markdown",
   "id": "d8244a60",
   "metadata": {
    "papermill": {
     "duration": 0.024105,
     "end_time": "2021-10-28T13:18:55.607436",
     "exception": false,
     "start_time": "2021-10-28T13:18:55.583331",
     "status": "completed"
    },
    "tags": []
   },
   "source": [
    "We will first remove the variable by using the T-test.\n",
    "f= variation b/w sample means/variation within the sample"
   ]
  },
  {
   "cell_type": "code",
   "execution_count": 16,
   "id": "7deb4a9f",
   "metadata": {
    "execution": {
     "iopub.execute_input": "2021-10-28T13:18:55.676181Z",
     "iopub.status.busy": "2021-10-28T13:18:55.668983Z",
     "iopub.status.idle": "2021-10-28T13:18:55.700748Z",
     "shell.execute_reply": "2021-10-28T13:18:55.701412Z",
     "shell.execute_reply.started": "2021-10-28T07:00:20.952711Z"
    },
    "papermill": {
     "duration": 0.06903,
     "end_time": "2021-10-28T13:18:55.701590",
     "exception": false,
     "start_time": "2021-10-28T13:18:55.632560",
     "status": "completed"
    },
    "tags": []
   },
   "outputs": [
    {
     "data": {
      "text/html": [
       "<div>\n",
       "<style scoped>\n",
       "    .dataframe tbody tr th:only-of-type {\n",
       "        vertical-align: middle;\n",
       "    }\n",
       "\n",
       "    .dataframe tbody tr th {\n",
       "        vertical-align: top;\n",
       "    }\n",
       "\n",
       "    .dataframe thead th {\n",
       "        text-align: right;\n",
       "    }\n",
       "</style>\n",
       "<table border=\"1\" class=\"dataframe\">\n",
       "  <thead>\n",
       "    <tr style=\"text-align: right;\">\n",
       "      <th></th>\n",
       "      <th>df</th>\n",
       "      <th>sum_sq</th>\n",
       "      <th>mean_sq</th>\n",
       "      <th>F</th>\n",
       "      <th>PR(&gt;F)</th>\n",
       "    </tr>\n",
       "  </thead>\n",
       "  <tbody>\n",
       "    <tr>\n",
       "      <th>Glucose</th>\n",
       "      <td>1.0</td>\n",
       "      <td>37.983801</td>\n",
       "      <td>37.983801</td>\n",
       "      <td>232.525439</td>\n",
       "      <td>5.272565e-46</td>\n",
       "    </tr>\n",
       "    <tr>\n",
       "      <th>BloodPressure</th>\n",
       "      <td>1.0</td>\n",
       "      <td>0.006706</td>\n",
       "      <td>0.006706</td>\n",
       "      <td>0.041054</td>\n",
       "      <td>8.394876e-01</td>\n",
       "    </tr>\n",
       "    <tr>\n",
       "      <th>SkinThickness</th>\n",
       "      <td>1.0</td>\n",
       "      <td>0.442541</td>\n",
       "      <td>0.442541</td>\n",
       "      <td>2.709104</td>\n",
       "      <td>1.001905e-01</td>\n",
       "    </tr>\n",
       "    <tr>\n",
       "      <th>Insulin</th>\n",
       "      <td>1.0</td>\n",
       "      <td>0.494055</td>\n",
       "      <td>0.494055</td>\n",
       "      <td>3.024454</td>\n",
       "      <td>8.242281e-02</td>\n",
       "    </tr>\n",
       "    <tr>\n",
       "      <th>BMI</th>\n",
       "      <td>1.0</td>\n",
       "      <td>6.708843</td>\n",
       "      <td>6.708843</td>\n",
       "      <td>41.069528</td>\n",
       "      <td>2.576181e-10</td>\n",
       "    </tr>\n",
       "    <tr>\n",
       "      <th>DiabetesPedigreeFunction</th>\n",
       "      <td>1.0</td>\n",
       "      <td>1.651513</td>\n",
       "      <td>1.651513</td>\n",
       "      <td>10.110069</td>\n",
       "      <td>1.534422e-03</td>\n",
       "    </tr>\n",
       "    <tr>\n",
       "      <th>Age</th>\n",
       "      <td>1.0</td>\n",
       "      <td>3.043190</td>\n",
       "      <td>3.043190</td>\n",
       "      <td>18.629494</td>\n",
       "      <td>1.797405e-05</td>\n",
       "    </tr>\n",
       "    <tr>\n",
       "      <th>Residual</th>\n",
       "      <td>760.0</td>\n",
       "      <td>124.148517</td>\n",
       "      <td>0.163353</td>\n",
       "      <td>NaN</td>\n",
       "      <td>NaN</td>\n",
       "    </tr>\n",
       "  </tbody>\n",
       "</table>\n",
       "</div>"
      ],
      "text/plain": [
       "                             df      sum_sq    mean_sq           F  \\\n",
       "Glucose                     1.0   37.983801  37.983801  232.525439   \n",
       "BloodPressure               1.0    0.006706   0.006706    0.041054   \n",
       "SkinThickness               1.0    0.442541   0.442541    2.709104   \n",
       "Insulin                     1.0    0.494055   0.494055    3.024454   \n",
       "BMI                         1.0    6.708843   6.708843   41.069528   \n",
       "DiabetesPedigreeFunction    1.0    1.651513   1.651513   10.110069   \n",
       "Age                         1.0    3.043190   3.043190   18.629494   \n",
       "Residual                  760.0  124.148517   0.163353         NaN   \n",
       "\n",
       "                                PR(>F)  \n",
       "Glucose                   5.272565e-46  \n",
       "BloodPressure             8.394876e-01  \n",
       "SkinThickness             1.001905e-01  \n",
       "Insulin                   8.242281e-02  \n",
       "BMI                       2.576181e-10  \n",
       "DiabetesPedigreeFunction  1.534422e-03  \n",
       "Age                       1.797405e-05  \n",
       "Residual                           NaN  "
      ]
     },
     "execution_count": 16,
     "metadata": {},
     "output_type": "execute_result"
    }
   ],
   "source": [
    "model2 = ols('Outcome ~ Glucose+BloodPressure+SkinThickness+Insulin+BMI+DiabetesPedigreeFunction+Age', df).fit()\n",
    "table2 = sm.stats.anova_lm(model2, type=2)\n",
    "table2"
   ]
  },
  {
   "cell_type": "code",
   "execution_count": 17,
   "id": "3d098513",
   "metadata": {
    "execution": {
     "iopub.execute_input": "2021-10-28T13:18:55.757247Z",
     "iopub.status.busy": "2021-10-28T13:18:55.756511Z",
     "iopub.status.idle": "2021-10-28T13:18:55.769054Z",
     "shell.execute_reply": "2021-10-28T13:18:55.769748Z",
     "shell.execute_reply.started": "2021-10-28T07:00:20.992849Z"
    },
    "papermill": {
     "duration": 0.042586,
     "end_time": "2021-10-28T13:18:55.769961",
     "exception": false,
     "start_time": "2021-10-28T13:18:55.727375",
     "status": "completed"
    },
    "tags": []
   },
   "outputs": [
    {
     "data": {
      "text/html": [
       "<div>\n",
       "<style scoped>\n",
       "    .dataframe tbody tr th:only-of-type {\n",
       "        vertical-align: middle;\n",
       "    }\n",
       "\n",
       "    .dataframe tbody tr th {\n",
       "        vertical-align: top;\n",
       "    }\n",
       "\n",
       "    .dataframe thead th {\n",
       "        text-align: right;\n",
       "    }\n",
       "</style>\n",
       "<table border=\"1\" class=\"dataframe\">\n",
       "  <thead>\n",
       "    <tr style=\"text-align: right;\">\n",
       "      <th></th>\n",
       "      <th>df</th>\n",
       "      <th>sum_sq</th>\n",
       "      <th>mean_sq</th>\n",
       "      <th>F</th>\n",
       "      <th>PR(&gt;F)</th>\n",
       "    </tr>\n",
       "  </thead>\n",
       "  <tbody>\n",
       "    <tr>\n",
       "      <th>Glucose</th>\n",
       "      <td>1.0</td>\n",
       "      <td>37.983801</td>\n",
       "      <td>37.983801</td>\n",
       "      <td>232.525439</td>\n",
       "      <td>5.272565e-46</td>\n",
       "    </tr>\n",
       "    <tr>\n",
       "      <th>BMI</th>\n",
       "      <td>1.0</td>\n",
       "      <td>6.708843</td>\n",
       "      <td>6.708843</td>\n",
       "      <td>41.069528</td>\n",
       "      <td>2.576181e-10</td>\n",
       "    </tr>\n",
       "    <tr>\n",
       "      <th>DiabetesPedigreeFunction</th>\n",
       "      <td>1.0</td>\n",
       "      <td>1.651513</td>\n",
       "      <td>1.651513</td>\n",
       "      <td>10.110069</td>\n",
       "      <td>1.534422e-03</td>\n",
       "    </tr>\n",
       "    <tr>\n",
       "      <th>Age</th>\n",
       "      <td>1.0</td>\n",
       "      <td>3.043190</td>\n",
       "      <td>3.043190</td>\n",
       "      <td>18.629494</td>\n",
       "      <td>1.797405e-05</td>\n",
       "    </tr>\n",
       "  </tbody>\n",
       "</table>\n",
       "</div>"
      ],
      "text/plain": [
       "                           df     sum_sq    mean_sq           F        PR(>F)\n",
       "Glucose                   1.0  37.983801  37.983801  232.525439  5.272565e-46\n",
       "BMI                       1.0   6.708843   6.708843   41.069528  2.576181e-10\n",
       "DiabetesPedigreeFunction  1.0   1.651513   1.651513   10.110069  1.534422e-03\n",
       "Age                       1.0   3.043190   3.043190   18.629494  1.797405e-05"
      ]
     },
     "execution_count": 17,
     "metadata": {},
     "output_type": "execute_result"
    }
   ],
   "source": [
    "df2 = table2[table2['PR(>F)'] < 0.05]\n",
    "df2"
   ]
  },
  {
   "cell_type": "code",
   "execution_count": 18,
   "id": "63b723a6",
   "metadata": {
    "execution": {
     "iopub.execute_input": "2021-10-28T13:18:55.829530Z",
     "iopub.status.busy": "2021-10-28T13:18:55.828442Z",
     "iopub.status.idle": "2021-10-28T13:18:55.835627Z",
     "shell.execute_reply": "2021-10-28T13:18:55.836593Z",
     "shell.execute_reply.started": "2021-10-28T07:00:26.028892Z"
    },
    "papermill": {
     "duration": 0.040321,
     "end_time": "2021-10-28T13:18:55.836825",
     "exception": false,
     "start_time": "2021-10-28T13:18:55.796504",
     "status": "completed"
    },
    "tags": []
   },
   "outputs": [
    {
     "data": {
      "text/html": [
       "<div>\n",
       "<style scoped>\n",
       "    .dataframe tbody tr th:only-of-type {\n",
       "        vertical-align: middle;\n",
       "    }\n",
       "\n",
       "    .dataframe tbody tr th {\n",
       "        vertical-align: top;\n",
       "    }\n",
       "\n",
       "    .dataframe thead th {\n",
       "        text-align: right;\n",
       "    }\n",
       "</style>\n",
       "<table border=\"1\" class=\"dataframe\">\n",
       "  <thead>\n",
       "    <tr style=\"text-align: right;\">\n",
       "      <th></th>\n",
       "      <th>Glucose</th>\n",
       "      <th>SkinThickness</th>\n",
       "      <th>BMI</th>\n",
       "      <th>DiabetesPedigreeFunction</th>\n",
       "    </tr>\n",
       "  </thead>\n",
       "  <tbody>\n",
       "    <tr>\n",
       "      <th>0</th>\n",
       "      <td>148</td>\n",
       "      <td>35</td>\n",
       "      <td>33.6</td>\n",
       "      <td>0.627</td>\n",
       "    </tr>\n",
       "    <tr>\n",
       "      <th>1</th>\n",
       "      <td>85</td>\n",
       "      <td>29</td>\n",
       "      <td>26.6</td>\n",
       "      <td>0.351</td>\n",
       "    </tr>\n",
       "    <tr>\n",
       "      <th>2</th>\n",
       "      <td>183</td>\n",
       "      <td>0</td>\n",
       "      <td>23.3</td>\n",
       "      <td>0.672</td>\n",
       "    </tr>\n",
       "    <tr>\n",
       "      <th>3</th>\n",
       "      <td>89</td>\n",
       "      <td>23</td>\n",
       "      <td>28.1</td>\n",
       "      <td>0.167</td>\n",
       "    </tr>\n",
       "    <tr>\n",
       "      <th>4</th>\n",
       "      <td>137</td>\n",
       "      <td>35</td>\n",
       "      <td>43.1</td>\n",
       "      <td>2.288</td>\n",
       "    </tr>\n",
       "    <tr>\n",
       "      <th>...</th>\n",
       "      <td>...</td>\n",
       "      <td>...</td>\n",
       "      <td>...</td>\n",
       "      <td>...</td>\n",
       "    </tr>\n",
       "    <tr>\n",
       "      <th>763</th>\n",
       "      <td>101</td>\n",
       "      <td>48</td>\n",
       "      <td>32.9</td>\n",
       "      <td>0.171</td>\n",
       "    </tr>\n",
       "    <tr>\n",
       "      <th>764</th>\n",
       "      <td>122</td>\n",
       "      <td>27</td>\n",
       "      <td>36.8</td>\n",
       "      <td>0.340</td>\n",
       "    </tr>\n",
       "    <tr>\n",
       "      <th>765</th>\n",
       "      <td>121</td>\n",
       "      <td>23</td>\n",
       "      <td>26.2</td>\n",
       "      <td>0.245</td>\n",
       "    </tr>\n",
       "    <tr>\n",
       "      <th>766</th>\n",
       "      <td>126</td>\n",
       "      <td>0</td>\n",
       "      <td>30.1</td>\n",
       "      <td>0.349</td>\n",
       "    </tr>\n",
       "    <tr>\n",
       "      <th>767</th>\n",
       "      <td>93</td>\n",
       "      <td>31</td>\n",
       "      <td>30.4</td>\n",
       "      <td>0.315</td>\n",
       "    </tr>\n",
       "  </tbody>\n",
       "</table>\n",
       "<p>768 rows × 4 columns</p>\n",
       "</div>"
      ],
      "text/plain": [
       "     Glucose  SkinThickness   BMI  DiabetesPedigreeFunction\n",
       "0        148             35  33.6                     0.627\n",
       "1         85             29  26.6                     0.351\n",
       "2        183              0  23.3                     0.672\n",
       "3         89             23  28.1                     0.167\n",
       "4        137             35  43.1                     2.288\n",
       "..       ...            ...   ...                       ...\n",
       "763      101             48  32.9                     0.171\n",
       "764      122             27  36.8                     0.340\n",
       "765      121             23  26.2                     0.245\n",
       "766      126              0  30.1                     0.349\n",
       "767       93             31  30.4                     0.315\n",
       "\n",
       "[768 rows x 4 columns]"
      ]
     },
     "execution_count": 18,
     "metadata": {},
     "output_type": "execute_result"
    }
   ],
   "source": [
    "features = df[['Glucose', 'SkinThickness', 'BMI', 'DiabetesPedigreeFunction']]\n",
    "Y = df['Outcome']\n",
    "features"
   ]
  },
  {
   "cell_type": "code",
   "execution_count": 19,
   "id": "eed8a6d0",
   "metadata": {
    "execution": {
     "iopub.execute_input": "2021-10-28T13:18:55.895778Z",
     "iopub.status.busy": "2021-10-28T13:18:55.894731Z",
     "iopub.status.idle": "2021-10-28T13:18:55.903581Z",
     "shell.execute_reply": "2021-10-28T13:18:55.902651Z",
     "shell.execute_reply.started": "2021-10-28T07:00:27.572153Z"
    },
    "papermill": {
     "duration": 0.038475,
     "end_time": "2021-10-28T13:18:55.903754",
     "exception": false,
     "start_time": "2021-10-28T13:18:55.865279",
     "status": "completed"
    },
    "tags": []
   },
   "outputs": [],
   "source": [
    "train_features, test_features, train_labels, test_labels = train_test_split(features, Y)"
   ]
  },
  {
   "cell_type": "code",
   "execution_count": 20,
   "id": "03c65306",
   "metadata": {
    "execution": {
     "iopub.execute_input": "2021-10-28T13:18:55.967671Z",
     "iopub.status.busy": "2021-10-28T13:18:55.966928Z",
     "iopub.status.idle": "2021-10-28T13:18:55.969339Z",
     "shell.execute_reply": "2021-10-28T13:18:55.969865Z",
     "shell.execute_reply.started": "2021-10-28T07:00:21.031525Z"
    },
    "papermill": {
     "duration": 0.039994,
     "end_time": "2021-10-28T13:18:55.970043",
     "exception": false,
     "start_time": "2021-10-28T13:18:55.930049",
     "status": "completed"
    },
    "tags": []
   },
   "outputs": [],
   "source": [
    "scaler = StandardScaler()\n",
    "train_features = scaler.fit_transform(train_features)\n",
    "test_features = scaler.transform(test_features)"
   ]
  },
  {
   "cell_type": "code",
   "execution_count": 21,
   "id": "92fcbe6c",
   "metadata": {},
   "outputs": [],
   "source": [
    "accuracy={}"
   ]
  },
  {
   "cell_type": "markdown",
   "id": "50950b89",
   "metadata": {},
   "source": [
    "# Linear Regression\n"
   ]
  },
  {
   "cell_type": "code",
   "execution_count": 23,
   "id": "4d26636e",
   "metadata": {},
   "outputs": [
    {
     "data": {
      "text/plain": [
       "LinearRegression()"
      ]
     },
     "execution_count": 23,
     "metadata": {},
     "output_type": "execute_result"
    }
   ],
   "source": [
    "from sklearn.linear_model import LinearRegression\n",
    "model = LinearRegression()\n",
    "model.fit(train_features, train_labels)"
   ]
  },
  {
   "cell_type": "code",
   "execution_count": 24,
   "id": "5e8bd896",
   "metadata": {},
   "outputs": [
    {
     "name": "stdout",
     "output_type": "stream",
     "text": [
      "LinearRegression: 0.27089762475649226\n"
     ]
    }
   ],
   "source": [
    "accuracy[\"Lin R\"]=model.score(train_features, train_labels)\n",
    "print(\"LinearRegression:\",model.score(train_features, train_labels))"
   ]
  },
  {
   "cell_type": "markdown",
   "id": "924da12d",
   "metadata": {
    "papermill": {
     "duration": 0.0257,
     "end_time": "2021-10-28T13:18:56.021081",
     "exception": false,
     "start_time": "2021-10-28T13:18:55.995381",
     "status": "completed"
    },
    "tags": []
   },
   "source": [
    "# Logistic Regression\n",
    "**I wanted to use Backward Elimination, but gave up because the number of features was too small.**"
   ]
  },
  {
   "cell_type": "code",
   "execution_count": 25,
   "id": "792f34ba",
   "metadata": {
    "execution": {
     "iopub.execute_input": "2021-10-28T13:18:56.081843Z",
     "iopub.status.busy": "2021-10-28T13:18:56.080739Z",
     "iopub.status.idle": "2021-10-28T13:18:56.095434Z",
     "shell.execute_reply": "2021-10-28T13:18:56.094716Z",
     "shell.execute_reply.started": "2021-10-28T07:00:37.895419Z"
    },
    "papermill": {
     "duration": 0.046836,
     "end_time": "2021-10-28T13:18:56.095583",
     "exception": false,
     "start_time": "2021-10-28T13:18:56.048747",
     "status": "completed"
    },
    "tags": []
   },
   "outputs": [
    {
     "data": {
      "text/plain": [
       "LogisticRegression()"
      ]
     },
     "execution_count": 25,
     "metadata": {},
     "output_type": "execute_result"
    }
   ],
   "source": [
    "from sklearn.linear_model import LogisticRegression\n",
    "model = LogisticRegression()\n",
    "model.fit(train_features, train_labels)"
   ]
  },
  {
   "cell_type": "code",
   "execution_count": 35,
   "id": "27712c8e",
   "metadata": {},
   "outputs": [
    {
     "name": "stdout",
     "output_type": "stream",
     "text": [
      "predicted value      Actual value\n",
      "0          0\n",
      "0          0\n",
      "1          1\n",
      "1          1\n",
      "0          0\n",
      "1          1\n",
      "0          0\n",
      "0          0\n",
      "0          0\n",
      "0          1\n",
      "0          1\n",
      "0          1\n",
      "0          0\n",
      "1          0\n",
      "1          1\n",
      "1          1\n",
      "0          0\n",
      "1          0\n",
      "1          1\n",
      "0          0\n",
      "0          1\n",
      "0          0\n",
      "0          0\n",
      "0          0\n",
      "1          1\n",
      "0          1\n",
      "1          1\n",
      "0          0\n",
      "1          1\n",
      "0          0\n",
      "0          1\n",
      "0          1\n",
      "0          0\n",
      "0          0\n",
      "0          0\n",
      "1          1\n",
      "0          0\n",
      "0          0\n",
      "0          0\n",
      "1          0\n",
      "0          1\n",
      "1          0\n",
      "0          0\n",
      "0          0\n",
      "1          1\n",
      "0          1\n",
      "0          0\n",
      "0          0\n",
      "0          0\n",
      "0          0\n",
      "0          0\n",
      "0          0\n",
      "0          1\n",
      "0          0\n",
      "0          1\n",
      "0          0\n",
      "0          0\n",
      "0          0\n",
      "0          0\n",
      "0          0\n",
      "0          0\n",
      "0          0\n",
      "1          1\n",
      "0          0\n",
      "0          0\n",
      "0          0\n",
      "0          0\n",
      "1          1\n",
      "0          0\n",
      "1          0\n",
      "0          0\n",
      "0          0\n",
      "1          0\n",
      "0          0\n",
      "0          0\n",
      "0          0\n",
      "1          0\n",
      "0          1\n",
      "0          0\n",
      "0          1\n",
      "0          0\n",
      "0          0\n",
      "0          0\n",
      "0          0\n",
      "1          0\n",
      "0          0\n",
      "0          0\n",
      "0          1\n",
      "0          1\n",
      "1          1\n",
      "1          0\n",
      "1          1\n",
      "0          0\n",
      "0          0\n",
      "0          0\n",
      "0          0\n",
      "0          1\n",
      "0          0\n",
      "0          0\n",
      "0          0\n",
      "1          1\n",
      "1          1\n",
      "0          0\n",
      "0          0\n",
      "0          1\n",
      "0          1\n",
      "1          0\n",
      "0          1\n",
      "0          0\n",
      "1          1\n",
      "0          0\n",
      "0          0\n",
      "0          0\n",
      "0          1\n",
      "0          0\n",
      "1          0\n",
      "1          1\n",
      "1          0\n",
      "1          1\n",
      "0          0\n",
      "0          0\n",
      "0          0\n",
      "0          0\n",
      "1          0\n",
      "0          0\n",
      "0          0\n",
      "0          1\n",
      "1          0\n",
      "0          0\n",
      "0          0\n",
      "1          0\n",
      "1          1\n",
      "0          0\n",
      "0          0\n",
      "0          0\n",
      "0          0\n",
      "1          1\n",
      "1          1\n",
      "1          1\n",
      "1          1\n",
      "0          0\n",
      "0          0\n",
      "0          1\n",
      "0          0\n",
      "0          1\n",
      "0          0\n",
      "0          1\n",
      "0          0\n",
      "0          0\n",
      "0          0\n",
      "1          1\n",
      "1          1\n",
      "0          0\n",
      "0          0\n",
      "0          0\n",
      "0          0\n",
      "1          1\n",
      "0          1\n",
      "0          0\n",
      "0          0\n",
      "1          1\n",
      "1          0\n",
      "1          1\n",
      "0          0\n",
      "0          0\n",
      "0          0\n",
      "0          0\n",
      "0          0\n",
      "1          1\n",
      "0          0\n",
      "1          1\n",
      "0          0\n",
      "1          0\n",
      "0          0\n",
      "0          0\n",
      "0          0\n",
      "0          1\n",
      "0          0\n",
      "0          0\n",
      "0          0\n",
      "0          0\n",
      "1          1\n",
      "0          0\n",
      "0          0\n",
      "0          0\n",
      "0          0\n",
      "0          0\n",
      "0          0\n",
      "0          1\n",
      "0          0\n",
      "0          0\n",
      "0          0\n",
      "0          0\n",
      "1          1\n",
      "0          0\n",
      "1          1\n",
      "0          1\n",
      "0          0\n",
      "1          1\n",
      "1          1\n",
      "0          0\n",
      "0          0\n",
      "0          0\n",
      "0          0\n",
      "1          1\n",
      "0          1\n",
      "0          1\n",
      "0          0\n",
      "0          0\n",
      "0          0\n",
      "0          1\n",
      "0          1\n",
      "0          0\n",
      "1          1\n",
      "0          0\n",
      "0          0\n",
      "0          1\n",
      "0          0\n",
      "0          1\n",
      "1          1\n",
      "1          1\n",
      "0          0\n",
      "0          1\n",
      "0          0\n",
      "0          0\n",
      "0          0\n",
      "0          0\n",
      "0          0\n",
      "1          1\n",
      "0          0\n",
      "0          1\n",
      "1          1\n",
      "0          1\n",
      "1          1\n",
      "0          1\n",
      "0          0\n",
      "0          1\n",
      "0          0\n",
      "0          0\n",
      "0          0\n",
      "1          1\n",
      "1          1\n",
      "0          1\n",
      "0          0\n",
      "0          0\n",
      "0          0\n",
      "1          0\n",
      "0          0\n",
      "0          0\n",
      "1          1\n",
      "1          1\n",
      "0          0\n",
      "0          0\n",
      "0          0\n",
      "0          1\n",
      "0          0\n",
      "0          0\n",
      "0          0\n",
      "0          0\n",
      "1          1\n",
      "1          0\n",
      "1          1\n",
      "1          1\n",
      "1          1\n",
      "0          1\n",
      "1          0\n",
      "0          0\n",
      "0          1\n",
      "0          0\n",
      "0          0\n",
      "1          1\n",
      "0          0\n",
      "0          1\n",
      "0          0\n",
      "0          1\n",
      "0          0\n",
      "1          0\n",
      "0          0\n",
      "0          0\n",
      "0          0\n",
      "0          0\n",
      "0          0\n",
      "0          1\n",
      "1          1\n",
      "1          1\n",
      "0          1\n",
      "0          0\n",
      "0          0\n",
      "0          0\n",
      "0          0\n",
      "0          1\n",
      "1          1\n",
      "0          0\n",
      "1          0\n",
      "1          0\n",
      "0          0\n",
      "0          1\n",
      "0          0\n",
      "0          0\n",
      "0          0\n",
      "0          0\n",
      "0          0\n",
      "0          0\n",
      "0          0\n",
      "0          0\n",
      "1          0\n",
      "0          1\n",
      "0          0\n",
      "0          1\n",
      "0          0\n",
      "1          1\n",
      "0          0\n",
      "0          0\n",
      "1          1\n",
      "0          0\n",
      "1          1\n",
      "0          0\n",
      "0          0\n",
      "0          0\n",
      "1          1\n",
      "1          0\n",
      "1          1\n",
      "1          1\n",
      "0          0\n",
      "0          0\n",
      "0          0\n",
      "0          0\n",
      "0          0\n",
      "1          1\n",
      "0          1\n",
      "1          1\n",
      "0          1\n",
      "0          1\n",
      "0          0\n",
      "0          0\n",
      "0          0\n",
      "0          0\n",
      "0          0\n",
      "0          0\n",
      "0          0\n",
      "0          0\n",
      "1          0\n",
      "0          0\n",
      "0          0\n",
      "1          1\n",
      "0          0\n",
      "1          1\n",
      "0          1\n",
      "0          0\n",
      "0          0\n",
      "0          1\n",
      "1          0\n",
      "0          1\n",
      "0          0\n",
      "0          0\n",
      "0          0\n",
      "1          1\n",
      "0          0\n",
      "0          0\n",
      "0          0\n",
      "0          0\n",
      "0          0\n",
      "0          0\n",
      "0          0\n",
      "0          0\n",
      "0          0\n",
      "0          0\n",
      "0          0\n",
      "0          0\n",
      "0          0\n",
      "0          0\n",
      "0          0\n",
      "0          1\n",
      "1          0\n",
      "0          0\n",
      "0          0\n",
      "1          1\n",
      "0          0\n",
      "0          0\n",
      "0          0\n",
      "1          1\n",
      "0          0\n",
      "1          0\n",
      "0          0\n",
      "0          0\n",
      "0          0\n",
      "0          0\n",
      "1          1\n",
      "0          0\n",
      "0          0\n",
      "1          0\n",
      "0          0\n",
      "0          0\n",
      "1          1\n",
      "0          0\n",
      "0          0\n",
      "0          0\n",
      "0          0\n",
      "0          0\n",
      "0          0\n",
      "0          1\n",
      "0          0\n",
      "0          1\n",
      "0          0\n",
      "0          0\n",
      "1          1\n",
      "1          1\n",
      "1          0\n",
      "1          1\n",
      "0          1\n",
      "0          1\n",
      "1          1\n",
      "0          1\n",
      "0          0\n",
      "0          0\n",
      "0          0\n",
      "0          0\n",
      "0          0\n",
      "0          0\n",
      "1          0\n",
      "0          0\n",
      "0          0\n",
      "0          0\n",
      "0          0\n",
      "0          0\n",
      "0          0\n",
      "0          0\n",
      "0          0\n",
      "1          1\n",
      "1          1\n",
      "0          0\n",
      "0          0\n",
      "0          0\n",
      "0          1\n",
      "1          1\n",
      "0          1\n",
      "1          1\n",
      "0          0\n",
      "1          1\n",
      "0          0\n",
      "0          0\n",
      "0          1\n",
      "0          0\n",
      "0          1\n",
      "1          1\n",
      "0          1\n",
      "0          1\n",
      "0          0\n",
      "0          0\n",
      "0          0\n",
      "0          0\n",
      "0          0\n",
      "0          0\n",
      "1          1\n",
      "1          0\n",
      "1          1\n",
      "0          1\n",
      "0          0\n",
      "0          1\n",
      "0          1\n",
      "0          0\n",
      "1          1\n",
      "0          0\n",
      "0          0\n",
      "0          0\n",
      "0          0\n",
      "0          1\n",
      "0          0\n",
      "0          0\n",
      "0          0\n",
      "0          0\n",
      "0          0\n",
      "0          0\n",
      "0          0\n",
      "1          0\n",
      "1          1\n",
      "0          0\n",
      "1          1\n",
      "0          1\n",
      "0          0\n",
      "0          0\n",
      "0          0\n",
      "0          0\n",
      "1          1\n",
      "0          0\n",
      "0          0\n",
      "0          0\n",
      "0          0\n",
      "0          0\n",
      "0          0\n",
      "0          0\n",
      "0          1\n",
      "0          0\n",
      "1          1\n",
      "0          1\n",
      "1          1\n",
      "0          0\n",
      "1          1\n",
      "0          0\n",
      "0          1\n",
      "0          0\n",
      "0          0\n",
      "1          1\n",
      "0          0\n",
      "1          1\n",
      "0          1\n",
      "1          0\n",
      "1          1\n",
      "1          1\n",
      "0          0\n",
      "0          0\n",
      "0          0\n",
      "0          0\n",
      "0          0\n",
      "1          0\n",
      "1          1\n",
      "0          1\n",
      "1          1\n",
      "0          1\n",
      "0          0\n",
      "0          0\n",
      "0          1\n",
      "1          1\n",
      "0          0\n",
      "0          1\n",
      "0          0\n",
      "0          0\n",
      "0          0\n",
      "0          0\n",
      "0          1\n",
      "1          1\n",
      "1          1\n",
      "0          0\n",
      "0          0\n",
      "0          0\n",
      "0          1\n",
      "0          0\n",
      "0          0\n",
      "0          1\n",
      "0          0\n",
      "0          0\n",
      "1          1\n",
      "0          0\n",
      "0          1\n",
      "0          0\n",
      "0          0\n",
      "0          0\n",
      "0          1\n",
      "0          0\n",
      "1          0\n",
      "0          0\n",
      "0          0\n",
      "0          0\n",
      "1          1\n",
      "0          0\n",
      "0          0\n",
      "0          0\n",
      "0          0\n",
      "0          1\n",
      "0          0\n",
      "0          1\n",
      "1          0\n",
      "0          0\n",
      "0          0\n",
      "0          0\n",
      "0          1\n",
      "1          1\n",
      "0          1\n",
      "1          1\n",
      "1          1\n",
      "1          1\n",
      "0          0\n",
      "0          0\n",
      "0          0\n",
      "0          0\n",
      "0          0\n"
     ]
    }
   ],
   "source": [
    "l=list(model.predict(train_features))\n",
    "m=list(train_labels)\n",
    "print(\"predicted value      Actual value\")\n",
    "for i in range(len(m)):\n",
    "    print(l[i],\"        \",m[i])"
   ]
  },
  {
   "cell_type": "code",
   "execution_count": 26,
   "id": "abe550f3",
   "metadata": {
    "execution": {
     "iopub.execute_input": "2021-10-28T13:18:56.156574Z",
     "iopub.status.busy": "2021-10-28T13:18:56.155462Z",
     "iopub.status.idle": "2021-10-28T13:18:56.162421Z",
     "shell.execute_reply": "2021-10-28T13:18:56.160786Z",
     "shell.execute_reply.started": "2021-10-28T07:00:39.308321Z"
    },
    "papermill": {
     "duration": 0.038986,
     "end_time": "2021-10-28T13:18:56.162670",
     "exception": false,
     "start_time": "2021-10-28T13:18:56.123684",
     "status": "completed"
    },
    "tags": []
   },
   "outputs": [
    {
     "name": "stdout",
     "output_type": "stream",
     "text": [
      "LogisticRegression: 0.734375\n"
     ]
    }
   ],
   "source": [
    "accuracy[\"Log R\"]=model.score(train_features, train_labels)\n",
    "print(\"LogisticRegression:\",model.score(test_features, test_labels))"
   ]
  },
  {
   "cell_type": "markdown",
   "id": "ace5914c",
   "metadata": {},
   "source": [
    "# ARDRegression"
   ]
  },
  {
   "cell_type": "code",
   "execution_count": 20,
   "id": "33e93917",
   "metadata": {},
   "outputs": [
    {
     "data": {
      "text/plain": [
       "ARDRegression()"
      ]
     },
     "execution_count": 20,
     "metadata": {},
     "output_type": "execute_result"
    }
   ],
   "source": [
    "from sklearn.linear_model import ARDRegression\n",
    "model = ARDRegression()\n",
    "model.fit(train_features, train_labels)"
   ]
  },
  {
   "cell_type": "code",
   "execution_count": 21,
   "id": "d8cf9a41",
   "metadata": {},
   "outputs": [
    {
     "name": "stdout",
     "output_type": "stream",
     "text": [
      "ARDRegression: 0.27999130707020814\n"
     ]
    }
   ],
   "source": [
    "print(\"ARDRegression:\",model.score(train_features, train_labels))"
   ]
  },
  {
   "cell_type": "markdown",
   "id": "4a78f045",
   "metadata": {},
   "source": [
    "# HuberRegressor"
   ]
  },
  {
   "cell_type": "code",
   "execution_count": 22,
   "id": "b118c7ea",
   "metadata": {},
   "outputs": [
    {
     "data": {
      "text/plain": [
       "HuberRegressor()"
      ]
     },
     "execution_count": 22,
     "metadata": {},
     "output_type": "execute_result"
    }
   ],
   "source": [
    "from sklearn.linear_model import HuberRegressor\n",
    "model = HuberRegressor()\n",
    "model.fit(train_features, train_labels)"
   ]
  },
  {
   "cell_type": "code",
   "execution_count": 23,
   "id": "45bb14c9",
   "metadata": {},
   "outputs": [
    {
     "name": "stdout",
     "output_type": "stream",
     "text": [
      "HuberRegressor 0.26288251808113805\n"
     ]
    }
   ],
   "source": [
    "print(\"HuberRegressor\",model.score(train_features, train_labels))"
   ]
  },
  {
   "cell_type": "markdown",
   "id": "5588f517",
   "metadata": {},
   "source": [
    "# ridge_regression"
   ]
  },
  {
   "cell_type": "code",
   "execution_count": 24,
   "id": "0d273752",
   "metadata": {},
   "outputs": [
    {
     "data": {
      "text/plain": [
       "Ridge()"
      ]
     },
     "execution_count": 24,
     "metadata": {},
     "output_type": "execute_result"
    }
   ],
   "source": [
    "from sklearn.linear_model import Ridge\n",
    "model = Ridge(alpha=1.0)\n",
    "model.fit(train_features, train_labels, sample_weight=None)"
   ]
  },
  {
   "cell_type": "code",
   "execution_count": 25,
   "id": "523ceefb",
   "metadata": {},
   "outputs": [
    {
     "name": "stdout",
     "output_type": "stream",
     "text": [
      "ridge_regression 0.2807944273830877\n"
     ]
    }
   ],
   "source": [
    "print(\"ridge_regression\",model.score(train_features, train_labels))"
   ]
  },
  {
   "cell_type": "markdown",
   "id": "2e1c83ea",
   "metadata": {},
   "source": [
    "# K Nearest Neighbors"
   ]
  },
  {
   "cell_type": "code",
   "execution_count": 26,
   "id": "b4499ee6",
   "metadata": {},
   "outputs": [
    {
     "data": {
      "text/plain": [
       "KNeighborsClassifier()"
      ]
     },
     "execution_count": 26,
     "metadata": {},
     "output_type": "execute_result"
    }
   ],
   "source": [
    "from sklearn.neighbors import KNeighborsClassifier\n",
    "model = KNeighborsClassifier()\n",
    "model.fit(train_features, train_labels)"
   ]
  },
  {
   "cell_type": "code",
   "execution_count": 27,
   "id": "0846d64b",
   "metadata": {},
   "outputs": [
    {
     "name": "stdout",
     "output_type": "stream",
     "text": [
      "K Nearest Neighbors: 0.8055555555555556\n"
     ]
    }
   ],
   "source": [
    "accuracy[\"KNN\"]=model.score(train_features, train_labels)\n",
    "print(\"K Nearest Neighbors:\",model.score(train_features, train_labels))"
   ]
  },
  {
   "cell_type": "markdown",
   "id": "dc2c60f1",
   "metadata": {},
   "source": [
    "# Decision Tree\n"
   ]
  },
  {
   "cell_type": "code",
   "execution_count": 28,
   "id": "ac45d360",
   "metadata": {},
   "outputs": [
    {
     "data": {
      "text/plain": [
       "DecisionTreeClassifier(criterion='entropy', max_depth=5)"
      ]
     },
     "execution_count": 28,
     "metadata": {},
     "output_type": "execute_result"
    }
   ],
   "source": [
    "from sklearn.tree import DecisionTreeClassifier\n",
    "model = DecisionTreeClassifier(criterion=\"entropy\", max_depth=5)\n",
    "model.fit(train_features, train_labels)"
   ]
  },
  {
   "cell_type": "code",
   "execution_count": 29,
   "id": "da52c9ab",
   "metadata": {},
   "outputs": [
    {
     "name": "stdout",
     "output_type": "stream",
     "text": [
      "Decision Tree: 0.8142361111111112\n"
     ]
    }
   ],
   "source": [
    "accuracy[\"DTree\"]=model.score(train_features, train_labels)\n",
    "print(\"Decision Tree:\",model.score(train_features, train_labels))"
   ]
  },
  {
   "cell_type": "markdown",
   "id": "854e4a8c",
   "metadata": {},
   "source": [
    "# Support Vector Machine"
   ]
  },
  {
   "cell_type": "code",
   "execution_count": 30,
   "id": "08f8d6ae",
   "metadata": {},
   "outputs": [
    {
     "data": {
      "text/plain": [
       "SVC()"
      ]
     },
     "execution_count": 30,
     "metadata": {},
     "output_type": "execute_result"
    }
   ],
   "source": [
    "from sklearn import svm\n",
    "model = svm.SVC()\n",
    "model.fit(train_features, train_labels)"
   ]
  },
  {
   "cell_type": "code",
   "execution_count": 31,
   "id": "9b460ebe",
   "metadata": {},
   "outputs": [
    {
     "name": "stdout",
     "output_type": "stream",
     "text": [
      "Support Vector Machine: 0.7829861111111112\n"
     ]
    }
   ],
   "source": [
    "accuracy[\"SVM\"]=model.score(train_features, train_labels)\n",
    "print(\"Support Vector Machine:\",model.score(train_features, train_labels))"
   ]
  },
  {
   "cell_type": "markdown",
   "id": "f8e20c4e",
   "metadata": {},
   "source": [
    "# Naïve Bayes\n"
   ]
  },
  {
   "cell_type": "code",
   "execution_count": 32,
   "id": "8d22acc5",
   "metadata": {},
   "outputs": [
    {
     "data": {
      "text/plain": [
       "GaussianNB()"
      ]
     },
     "execution_count": 32,
     "metadata": {},
     "output_type": "execute_result"
    }
   ],
   "source": [
    "from sklearn.naive_bayes import GaussianNB\n",
    "model = GaussianNB()\n",
    "model.fit(train_features, train_labels)"
   ]
  },
  {
   "cell_type": "code",
   "execution_count": 33,
   "id": "5778941a",
   "metadata": {},
   "outputs": [
    {
     "name": "stdout",
     "output_type": "stream",
     "text": [
      "Naïve Bayes: 0.7690972222222222\n"
     ]
    }
   ],
   "source": [
    "accuracy[\"NB\"]=model.score(train_features, train_labels)\n",
    "print(\"Naïve Bayes:\",model.score(train_features, train_labels))"
   ]
  },
  {
   "cell_type": "markdown",
   "id": "4415ba1f",
   "metadata": {},
   "source": [
    "# Random Forest\n"
   ]
  },
  {
   "cell_type": "code",
   "execution_count": 36,
   "id": "a8703383",
   "metadata": {},
   "outputs": [
    {
     "data": {
      "text/plain": [
       "RandomForestRegressor()"
      ]
     },
     "execution_count": 36,
     "metadata": {},
     "output_type": "execute_result"
    }
   ],
   "source": [
    "from sklearn.ensemble import RandomForestRegressor\n",
    "model=RandomForestRegressor()\n",
    "model.fit(train_features, train_labels)"
   ]
  },
  {
   "cell_type": "code",
   "execution_count": 37,
   "id": "472b6dd1",
   "metadata": {},
   "outputs": [
    {
     "name": "stdout",
     "output_type": "stream",
     "text": [
      "predicted value      Actual value\n",
      "0.03          0\n",
      "0.09          0\n",
      "0.94          1\n",
      "0.99          1\n",
      "0.0          0\n",
      "0.91          1\n",
      "0.14          0\n",
      "0.08          0\n",
      "0.03          0\n",
      "0.75          1\n",
      "0.73          1\n",
      "0.81          1\n",
      "0.05          0\n",
      "0.11          0\n",
      "0.98          1\n",
      "0.91          1\n",
      "0.01          0\n",
      "0.39          0\n",
      "0.83          1\n",
      "0.08          0\n",
      "0.86          1\n",
      "0.0          0\n",
      "0.08          0\n",
      "0.01          0\n",
      "0.98          1\n",
      "0.73          1\n",
      "1.0          1\n",
      "0.18          0\n",
      "0.81          1\n",
      "0.0          0\n",
      "0.73          1\n",
      "0.69          1\n",
      "0.03          0\n",
      "0.0          0\n",
      "0.07          0\n",
      "0.98          1\n",
      "0.05          0\n",
      "0.0          0\n",
      "0.01          0\n",
      "0.19          0\n",
      "0.79          1\n",
      "0.32          0\n",
      "0.01          0\n",
      "0.17          0\n",
      "0.99          1\n",
      "0.79          1\n",
      "0.03          0\n",
      "0.08          0\n",
      "0.0          0\n",
      "0.0          0\n",
      "0.01          0\n",
      "0.15          0\n",
      "0.77          1\n",
      "0.0          0\n",
      "0.8          1\n",
      "0.07          0\n",
      "0.0          0\n",
      "0.1          0\n",
      "0.1          0\n",
      "0.15          0\n",
      "0.03          0\n",
      "0.25          0\n",
      "0.88          1\n",
      "0.04          0\n",
      "0.07          0\n",
      "0.0          0\n",
      "0.01          0\n",
      "0.97          1\n",
      "0.0          0\n",
      "0.14          0\n",
      "0.05          0\n",
      "0.02          0\n",
      "0.36          0\n",
      "0.0          0\n",
      "0.0          0\n",
      "0.0          0\n",
      "0.2          0\n",
      "0.73          1\n",
      "0.13          0\n",
      "0.67          1\n",
      "0.14          0\n",
      "0.0          0\n",
      "0.0          0\n",
      "0.03          0\n",
      "0.26          0\n",
      "0.02          0\n",
      "0.01          0\n",
      "0.62          1\n",
      "0.72          1\n",
      "0.88          1\n",
      "0.43          0\n",
      "0.93          1\n",
      "0.0          0\n",
      "0.05          0\n",
      "0.24          0\n",
      "0.08          0\n",
      "0.76          1\n",
      "0.02          0\n",
      "0.0          0\n",
      "0.0          0\n",
      "0.91          1\n",
      "0.9          1\n",
      "0.1          0\n",
      "0.1          0\n",
      "0.86          1\n",
      "0.76          1\n",
      "0.39          0\n",
      "0.67          1\n",
      "0.01          0\n",
      "0.94          1\n",
      "0.01          0\n",
      "0.02          0\n",
      "0.11          0\n",
      "0.91          1\n",
      "0.05          0\n",
      "0.22          0\n",
      "0.96          1\n",
      "0.15          0\n",
      "0.96          1\n",
      "0.1          0\n",
      "0.0          0\n",
      "0.09          0\n",
      "0.04          0\n",
      "0.24          0\n",
      "0.05          0\n",
      "0.0          0\n",
      "0.88          1\n",
      "0.36          0\n",
      "0.0          0\n",
      "0.19          0\n",
      "0.2          0\n",
      "0.91          1\n",
      "0.13          0\n",
      "0.07          0\n",
      "0.18          0\n",
      "0.15          0\n",
      "0.98          1\n",
      "0.98          1\n",
      "0.81          1\n",
      "0.88          1\n",
      "0.04          0\n",
      "0.0          0\n",
      "0.79          1\n",
      "0.03          0\n",
      "0.62          1\n",
      "0.06          0\n",
      "0.77          1\n",
      "0.34          0\n",
      "0.11          0\n",
      "0.0          0\n",
      "0.97          1\n",
      "0.85          1\n",
      "0.03          0\n",
      "0.13          0\n",
      "0.12          0\n",
      "0.0          0\n",
      "0.92          1\n",
      "0.77          1\n",
      "0.0          0\n",
      "0.0          0\n",
      "0.76          1\n",
      "0.25          0\n",
      "0.98          1\n",
      "0.0          0\n",
      "0.03          0\n",
      "0.05          0\n",
      "0.13          0\n",
      "0.06          0\n",
      "0.96          1\n",
      "0.0          0\n",
      "0.9          1\n",
      "0.0          0\n",
      "0.15          0\n",
      "0.0          0\n",
      "0.0          0\n",
      "0.05          0\n",
      "0.63          1\n",
      "0.11          0\n",
      "0.06          0\n",
      "0.0          0\n",
      "0.02          0\n",
      "0.9          1\n",
      "0.06          0\n",
      "0.01          0\n",
      "0.01          0\n",
      "0.11          0\n",
      "0.03          0\n",
      "0.18          0\n",
      "0.75          1\n",
      "0.09          0\n",
      "0.0          0\n",
      "0.06          0\n",
      "0.18          0\n",
      "0.81          1\n",
      "0.16          0\n",
      "0.73          1\n",
      "0.9          1\n",
      "0.04          0\n",
      "0.86          1\n",
      "0.77          1\n",
      "0.15          0\n",
      "0.26          0\n",
      "0.29          0\n",
      "0.09          0\n",
      "0.91          1\n",
      "0.81          1\n",
      "0.9          1\n",
      "0.06          0\n",
      "0.3          0\n",
      "0.25          0\n",
      "0.76          1\n",
      "0.76          1\n",
      "0.0          0\n",
      "0.91          1\n",
      "0.14          0\n",
      "0.0          0\n",
      "0.61          1\n",
      "0.05          0\n",
      "0.76          1\n",
      "0.99          1\n",
      "0.85          1\n",
      "0.09          0\n",
      "0.87          1\n",
      "0.12          0\n",
      "0.01          0\n",
      "0.11          0\n",
      "0.13          0\n",
      "0.0          0\n",
      "1.0          1\n",
      "0.0          0\n",
      "0.68          1\n",
      "0.79          1\n",
      "0.67          1\n",
      "0.94          1\n",
      "0.74          1\n",
      "0.07          0\n",
      "0.69          1\n",
      "0.02          0\n",
      "0.01          0\n",
      "0.1          0\n",
      "0.96          1\n",
      "0.89          1\n",
      "0.67          1\n",
      "0.02          0\n",
      "0.01          0\n",
      "0.0          0\n",
      "0.32          0\n",
      "0.09          0\n",
      "0.05          0\n",
      "0.88          1\n",
      "0.88          1\n",
      "0.11          0\n",
      "0.17          0\n",
      "0.01          0\n",
      "0.77          1\n",
      "0.26          0\n",
      "0.01          0\n",
      "0.0          0\n",
      "0.04          0\n",
      "0.66          1\n",
      "0.19          0\n",
      "0.88          1\n",
      "0.98          1\n",
      "0.93          1\n",
      "0.64          1\n",
      "0.38          0\n",
      "0.11          0\n",
      "0.79          1\n",
      "0.1          0\n",
      "0.02          0\n",
      "0.78          1\n",
      "0.0          0\n",
      "0.75          1\n",
      "0.07          0\n",
      "0.76          1\n",
      "0.02          0\n",
      "0.27          0\n",
      "0.02          0\n",
      "0.09          0\n",
      "0.01          0\n",
      "0.0          0\n",
      "0.0          0\n",
      "0.76          1\n",
      "0.99          1\n",
      "0.97          1\n",
      "0.67          1\n",
      "0.0          0\n",
      "0.2          0\n",
      "0.01          0\n",
      "0.1          0\n",
      "0.83          1\n",
      "0.84          1\n",
      "0.25          0\n",
      "0.31          0\n",
      "0.31          0\n",
      "0.01          0\n",
      "0.61          1\n",
      "0.11          0\n",
      "0.18          0\n",
      "0.02          0\n",
      "0.0          0\n",
      "0.02          0\n",
      "0.0          0\n",
      "0.0          0\n",
      "0.05          0\n",
      "0.13          0\n",
      "0.67          1\n",
      "0.05          0\n",
      "0.79          1\n",
      "0.04          0\n",
      "0.97          1\n",
      "0.0          0\n",
      "0.01          0\n",
      "0.93          1\n",
      "0.0          0\n",
      "0.98          1\n",
      "0.03          0\n",
      "0.09          0\n",
      "0.03          0\n",
      "0.85          1\n",
      "0.26          0\n",
      "0.94          1\n",
      "0.98          1\n",
      "0.07          0\n",
      "0.04          0\n",
      "0.0          0\n",
      "0.08          0\n",
      "0.03          0\n",
      "0.92          1\n",
      "0.77          1\n",
      "0.92          1\n",
      "0.64          1\n",
      "0.76          1\n",
      "0.04          0\n",
      "0.13          0\n",
      "0.1          0\n",
      "0.0          0\n",
      "0.04          0\n",
      "0.21          0\n",
      "0.15          0\n",
      "0.0          0\n",
      "0.22          0\n",
      "0.14          0\n",
      "0.01          0\n",
      "0.98          1\n",
      "0.21          0\n",
      "0.99          1\n",
      "0.76          1\n",
      "0.03          0\n",
      "0.02          0\n",
      "0.69          1\n",
      "0.15          0\n",
      "0.71          1\n",
      "0.04          0\n",
      "0.03          0\n",
      "0.11          0\n",
      "0.83          1\n",
      "0.08          0\n",
      "0.19          0\n",
      "0.01          0\n",
      "0.29          0\n",
      "0.0          0\n",
      "0.05          0\n",
      "0.04          0\n",
      "0.21          0\n",
      "0.12          0\n",
      "0.01          0\n",
      "0.0          0\n",
      "0.06          0\n",
      "0.0          0\n",
      "0.14          0\n",
      "0.16          0\n",
      "0.69          1\n",
      "0.28          0\n",
      "0.05          0\n",
      "0.0          0\n",
      "1.0          1\n",
      "0.0          0\n",
      "0.11          0\n",
      "0.02          0\n",
      "0.96          1\n",
      "0.07          0\n",
      "0.27          0\n",
      "0.19          0\n",
      "0.01          0\n",
      "0.0          0\n",
      "0.08          0\n",
      "0.91          1\n",
      "0.06          0\n",
      "0.14          0\n",
      "0.26          0\n",
      "0.09          0\n",
      "0.03          0\n",
      "0.69          1\n",
      "0.18          0\n",
      "0.0          0\n",
      "0.07          0\n",
      "0.16          0\n",
      "0.19          0\n",
      "0.2          0\n",
      "0.82          1\n",
      "0.18          0\n",
      "0.63          1\n",
      "0.13          0\n",
      "0.07          0\n",
      "0.88          1\n",
      "1.0          1\n",
      "0.28          0\n",
      "0.91          1\n",
      "0.77          1\n",
      "0.74          1\n",
      "0.83          1\n",
      "0.73          1\n",
      "0.17          0\n",
      "0.08          0\n",
      "0.03          0\n",
      "0.04          0\n",
      "0.03          0\n",
      "0.08          0\n",
      "0.31          0\n",
      "0.11          0\n",
      "0.07          0\n",
      "0.08          0\n",
      "0.06          0\n",
      "0.01          0\n",
      "0.19          0\n",
      "0.31          0\n",
      "0.07          0\n",
      "0.98          1\n",
      "0.71          1\n",
      "0.04          0\n",
      "0.01          0\n",
      "0.0          0\n",
      "0.77          1\n",
      "0.96          1\n",
      "0.76          1\n",
      "0.95          1\n",
      "0.05          0\n",
      "0.91          1\n",
      "0.0          0\n",
      "0.01          0\n",
      "0.73          1\n",
      "0.21          0\n",
      "0.76          1\n",
      "0.94          1\n",
      "0.77          1\n",
      "0.71          1\n",
      "0.01          0\n",
      "0.3          0\n",
      "0.17          0\n",
      "0.0          0\n",
      "0.05          0\n",
      "0.06          0\n",
      "0.9          1\n",
      "0.18          0\n",
      "0.99          1\n",
      "0.7          1\n",
      "0.06          0\n",
      "0.69          1\n",
      "0.74          1\n",
      "0.0          0\n",
      "0.92          1\n",
      "0.04          0\n",
      "0.03          0\n",
      "0.15          0\n",
      "0.02          0\n",
      "0.68          1\n",
      "0.05          0\n",
      "0.06          0\n",
      "0.22          0\n",
      "0.06          0\n",
      "0.0          0\n",
      "0.0          0\n",
      "0.01          0\n",
      "0.15          0\n",
      "0.98          1\n",
      "0.01          0\n",
      "0.96          1\n",
      "0.67          1\n",
      "0.0          0\n",
      "0.15          0\n",
      "0.0          0\n",
      "0.06          0\n",
      "0.91          1\n",
      "0.07          0\n",
      "0.0          0\n",
      "0.01          0\n",
      "0.0          0\n",
      "0.06          0\n",
      "0.02          0\n",
      "0.08          0\n",
      "0.82          1\n",
      "0.0          0\n",
      "0.95          1\n",
      "0.74          1\n",
      "0.99          1\n",
      "0.2          0\n",
      "0.93          1\n",
      "0.0          0\n",
      "0.74          1\n",
      "0.14          0\n",
      "0.0          0\n",
      "0.78          1\n",
      "0.27          0\n",
      "0.96          1\n",
      "0.9          1\n",
      "0.29          0\n",
      "0.75          1\n",
      "0.97          1\n",
      "0.0          0\n",
      "0.09          0\n",
      "0.07          0\n",
      "0.03          0\n",
      "0.04          0\n",
      "0.22          0\n",
      "0.89          1\n",
      "0.74          1\n",
      "0.98          1\n",
      "0.89          1\n",
      "0.09          0\n",
      "0.12          0\n",
      "0.8          1\n",
      "1.0          1\n",
      "0.12          0\n",
      "0.73          1\n",
      "0.1          0\n",
      "0.0          0\n",
      "0.0          0\n",
      "0.0          0\n",
      "0.65          1\n",
      "0.67          1\n",
      "0.97          1\n",
      "0.0          0\n",
      "0.23          0\n",
      "0.35          0\n",
      "0.72          1\n",
      "0.05          0\n",
      "0.06          0\n",
      "0.69          1\n",
      "0.08          0\n",
      "0.09          0\n",
      "0.97          1\n",
      "0.11          0\n",
      "0.66          1\n",
      "0.11          0\n",
      "0.17          0\n",
      "0.03          0\n",
      "0.87          1\n",
      "0.0          0\n",
      "0.32          0\n",
      "0.3          0\n",
      "0.03          0\n",
      "0.09          0\n",
      "0.72          1\n",
      "0.19          0\n",
      "0.05          0\n",
      "0.0          0\n",
      "0.01          0\n",
      "0.77          1\n",
      "0.03          0\n",
      "0.82          1\n",
      "0.24          0\n",
      "0.07          0\n",
      "0.21          0\n",
      "0.05          0\n",
      "0.71          1\n",
      "0.91          1\n",
      "0.74          1\n",
      "0.85          1\n",
      "0.96          1\n",
      "0.83          1\n",
      "0.0          0\n",
      "0.17          0\n",
      "0.0          0\n",
      "0.01          0\n",
      "0.16          0\n"
     ]
    }
   ],
   "source": [
    "l=list(model.predict(train_features))\n",
    "m=list(train_labels)\n",
    "print(\"predicted value      Actual value\")\n",
    "for i in range(len(m)):\n",
    "    print(l[i],\"        \",m[i])"
   ]
  },
  {
   "cell_type": "code",
   "execution_count": 35,
   "id": "0d83d31a",
   "metadata": {},
   "outputs": [
    {
     "name": "stdout",
     "output_type": "stream",
     "text": [
      "Random Forest: 0.8876557558619065\n"
     ]
    }
   ],
   "source": [
    "accuracy[\"RF\"]=model.score(train_features, train_labels)\n",
    "print(\"Random Forest:\",model.score(train_features, train_labels))"
   ]
  },
  {
   "cell_type": "markdown",
   "id": "31b97d1e",
   "metadata": {},
   "source": [
    "# Accuracy of ML Algorithms"
   ]
  },
  {
   "cell_type": "code",
   "execution_count": 36,
   "id": "b7416401",
   "metadata": {},
   "outputs": [
    {
     "data": {
      "text/plain": [
       "{'Lin R': 0.28079504111852005,\n",
       " 'Log R': 0.7621527777777778,\n",
       " 'KNN': 0.8055555555555556,\n",
       " 'DTree': 0.8142361111111112,\n",
       " 'SVM': 0.7829861111111112,\n",
       " 'NB': 0.7690972222222222,\n",
       " 'RF': 0.8876557558619065}"
      ]
     },
     "execution_count": 36,
     "metadata": {},
     "output_type": "execute_result"
    }
   ],
   "source": [
    "accuracy"
   ]
  },
  {
   "cell_type": "code",
   "execution_count": 37,
   "id": "8257c050",
   "metadata": {},
   "outputs": [
    {
     "data": {
      "text/plain": [
       "<BarContainer object of 7 artists>"
      ]
     },
     "execution_count": 37,
     "metadata": {},
     "output_type": "execute_result"
    },
    {
     "data": {
      "image/png": "[encoded data removed]",
      "text/plain": [
       "<Figure size 432x288 with 1 Axes>"
      ]
     },
     "metadata": {
      "needs_background": "light"
     },
     "output_type": "display_data"
    }
   ],
   "source": [
    "import matplotlib.pyplot as plt\n",
    "algo=list(accuracy.keys())\n",
    "accu=list(accuracy.values())\n",
    "plt.bar(range(len(accuracy)),accu,tick_label=algo)"
   ]
  },
  {
   "cell_type": "markdown",
   "id": "c6f228d6",
   "metadata": {},
   "source": [
    "###random forest"
   ]
  },
  {
   "cell_type": "code",
   "execution_count": null,
   "id": "3233056f",
   "metadata": {},
   "outputs": [],
   "source": [
    "g=float(input('Enter the glucose:'))\n",
    "bmi=float(input('Enter the bmi value:'))\n",
    "p=float(input('Enter the pedegree function:'))\n",
    "age=int(input('Enter the age:'))\n",
    "phonenumber=input('Enter the whatsapp number:')"
   ]
  },
  {
   "cell_type": "code",
   "execution_count": null,
   "id": "c49d40a4",
   "metadata": {},
   "outputs": [],
   "source": [
    "from sklearn.ensemble import RandomForestClassifier\n",
    "from sklearn.datasets import make_classification\n",
    "X, y = make_classification(n_samples=len(train_features), n_features=4,n_informative=2, n_redundant=0,random_state=0, shuffle=False)\n",
    "clf = RandomForestClassifier(max_depth=2, random_state=0)\n",
    "clf.fit(train_features, train_labels)\n",
    "predicted_value=clf.predict([[g,bmi,p,age]])"
   ]
  },
  {
   "cell_type": "code",
   "execution_count": null,
   "id": "f7e55faf",
   "metadata": {},
   "outputs": [],
   "source": [
    "import pywhatkit"
   ]
  },
  {
   "cell_type": "code",
   "execution_count": 6,
   "id": "c4735f2f",
   "metadata": {},
   "outputs": [
    {
     "name": "stdout",
     "output_type": "stream",
     "text": [
      "An Unexpected Error!\n"
     ]
    }
   ],
   "source": [
    "try:   \n",
    "    # sending message to receiver\n",
    "    # using pywhatkit\n",
    "    p=\"+91\"+phonenumber\n",
    "    message=\"output:\"+str(predicted_value)+\"\\naccuracy\"+str(accuracy[\"RF\"])\n",
    "    pywhatkit.sendwhatmsg(p,message,22, 28)\n",
    "    print(\"Successfully Sent!\")\n",
    "except:\n",
    "    # handling exception\n",
    "    # and printing error message\n",
    "    print(\"An Unexpected Error!\")"
   ]
  },
  {
   "cell_type": "code",
   "execution_count": null,
   "id": "15813db6",
   "metadata": {},
   "outputs": [],
   "source": []
  }
 ],
 "metadata": {
  "interpreter": {
   "hash": "a3949659082f76c3dce9af69e66ef5cf512c1e4dc52678c6ac146f322361f8d5"
  },
  "kernelspec": {
   "display_name": "Python 3",
   "language": "python",
   "name": "python3"
  },
  "language_info": {
   "codemirror_mode": {
    "name": "ipython",
    "version": 3
   },
   "file_extension": ".py",
   "mimetype": "text/x-python",
   "name": "python",
   "nbconvert_exporter": "python",
   "pygments_lexer": "ipython3",
   "version": "3.8.8"
  },
  "papermill": {
   "default_parameters": {},
   "duration": 16.052568,
   "end_time": "2021-10-28T13:18:57.003280",
   "environment_variables": {},
   "exception": null,
   "input_path": "__notebook__.ipynb",
   "output_path": "__notebook__.ipynb",
   "parameters": {},
   "start_time": "2021-10-28T13:18:40.950712",
   "version": "2.3.3"
  }
 },
 "nbformat": 4,
 "nbformat_minor": 5
}
